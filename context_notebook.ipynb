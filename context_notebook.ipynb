{
 "metadata": {
  "language_info": {
   "codemirror_mode": {
    "name": "ipython",
    "version": 3
   },
   "file_extension": ".py",
   "mimetype": "text/x-python",
   "name": "python",
   "nbconvert_exporter": "python",
   "pygments_lexer": "ipython3",
   "version": "3.7.6-final"
  },
  "orig_nbformat": 2,
  "kernelspec": {
   "name": "python3",
   "display_name": "Python 3"
  }
 },
 "nbformat": 4,
 "nbformat_minor": 2,
 "cells": [
  {
   "cell_type": "markdown",
   "metadata": {},
   "source": [
    "# Dota 2 Chat Log Data Set\n",
    "Training Set Count: 1000\n",
    "## Labels\n",
    "    None of the labels are mutually exclusive. You may encounter toxic teamwork. Just like the workplace sometimes.\n",
    "### Positivity, Teamwork, Sportsmanship\n",
    "- Positivity\n",
    "    - Overall comment is opposite of negative. Neutral comments are included as positive.\n",
    "- Team Work\n",
    "    - Communication to team about the game. Should be something relevant to the game. Telling a \"noob\" to go mid still counts as team work. \n",
    "- Sportsmanship\n",
    "    - Calling out something positive in someone else during the game, being a good \"sport\". It may be as simple as \"GG\", or complimenting another player (same team or other team)\n",
    "### Spam, Toxic, Report_Misuse\n",
    "- Spam\n",
    "    - Text is spamming or advertising something not related to the game. It could be a twitch channel, or something repeated over and over without merit\n",
    "- Toxic\n",
    "    - Communication contains vulgar language, put downs, severly negative comments about team mates or opposing team. Comments about someone's mom.\n",
    "- Report_Misuse\n",
    "    - Calling out to report another player for being bad, or doing something that is against the \"meta\", or something else that doesn't violate Dota 2's basic rules. Being bad doesn't warrant a report. People often use it instead of insults and is another form of toxic communication. "
   ]
  },
  {
   "cell_type": "code",
   "execution_count": 1,
   "metadata": {},
   "outputs": [],
   "source": [
    "import pandas as pd\n"
   ]
  },
  {
   "cell_type": "code",
   "execution_count": 12,
   "metadata": {},
   "outputs": [],
   "source": [
    "df= pd.read_csv('dota_detected_lang_mil.csv')\n",
    "df= df.loc[df['lang'] == 'en']\n",
    "df= df.head(1000)\n"
   ]
  },
  {
   "cell_type": "code",
   "execution_count": 13,
   "metadata": {},
   "outputs": [
    {
     "output_type": "execute_result",
     "data": {
      "text/plain": "Index(['Unnamed: 0', 'match', 'time', 'slot', 'text', 'lang'], dtype='object')"
     },
     "metadata": {},
     "execution_count": 13
    }
   ],
   "source": [
    "df.columns"
   ]
  },
  {
   "cell_type": "code",
   "execution_count": 14,
   "metadata": {},
   "outputs": [
    {
     "output_type": "execute_result",
     "data": {
      "text/plain": "      Unnamed: 0  match        time  slot                                text  \\\n9              9      1  -131.14018     0              twitch tv rage_channel   \n10            10      1  -121.60481     0  https   www twitch tv rage_channel   \n18            18      1   700.72893     0  https   www twitch tv rage_channel   \n19            19      1   702.99503     0  https   www twitch tv rage_channel   \n20            20      1   703.59488     0  https   www twitch tv rage_channel   \n...          ...    ...         ...   ...                                 ...   \n8123        8123    383  2422.91578     8                                 Who   \n8126        8126    383  2471.34748     2                       spaxe xreated   \n8135        8135    384  1850.00864     0                             why not   \n8148        8148    384  3826.67134     3          I commend your fucking rat   \n8149        8149    384  3826.87064     1              rasta won you the game   \n\n     lang  \n9      en  \n10     en  \n18     en  \n19     en  \n20     en  \n...   ...  \n8123   en  \n8126   en  \n8135   en  \n8148   en  \n8149   en  \n\n[1000 rows x 6 columns]",
      "text/html": "<div>\n<style scoped>\n    .dataframe tbody tr th:only-of-type {\n        vertical-align: middle;\n    }\n\n    .dataframe tbody tr th {\n        vertical-align: top;\n    }\n\n    .dataframe thead th {\n        text-align: right;\n    }\n</style>\n<table border=\"1\" class=\"dataframe\">\n  <thead>\n    <tr style=\"text-align: right;\">\n      <th></th>\n      <th>Unnamed: 0</th>\n      <th>match</th>\n      <th>time</th>\n      <th>slot</th>\n      <th>text</th>\n      <th>lang</th>\n    </tr>\n  </thead>\n  <tbody>\n    <tr>\n      <th>9</th>\n      <td>9</td>\n      <td>1</td>\n      <td>-131.14018</td>\n      <td>0</td>\n      <td>twitch tv rage_channel</td>\n      <td>en</td>\n    </tr>\n    <tr>\n      <th>10</th>\n      <td>10</td>\n      <td>1</td>\n      <td>-121.60481</td>\n      <td>0</td>\n      <td>https   www twitch tv rage_channel</td>\n      <td>en</td>\n    </tr>\n    <tr>\n      <th>18</th>\n      <td>18</td>\n      <td>1</td>\n      <td>700.72893</td>\n      <td>0</td>\n      <td>https   www twitch tv rage_channel</td>\n      <td>en</td>\n    </tr>\n    <tr>\n      <th>19</th>\n      <td>19</td>\n      <td>1</td>\n      <td>702.99503</td>\n      <td>0</td>\n      <td>https   www twitch tv rage_channel</td>\n      <td>en</td>\n    </tr>\n    <tr>\n      <th>20</th>\n      <td>20</td>\n      <td>1</td>\n      <td>703.59488</td>\n      <td>0</td>\n      <td>https   www twitch tv rage_channel</td>\n      <td>en</td>\n    </tr>\n    <tr>\n      <th>...</th>\n      <td>...</td>\n      <td>...</td>\n      <td>...</td>\n      <td>...</td>\n      <td>...</td>\n      <td>...</td>\n    </tr>\n    <tr>\n      <th>8123</th>\n      <td>8123</td>\n      <td>383</td>\n      <td>2422.91578</td>\n      <td>8</td>\n      <td>Who</td>\n      <td>en</td>\n    </tr>\n    <tr>\n      <th>8126</th>\n      <td>8126</td>\n      <td>383</td>\n      <td>2471.34748</td>\n      <td>2</td>\n      <td>spaxe xreated</td>\n      <td>en</td>\n    </tr>\n    <tr>\n      <th>8135</th>\n      <td>8135</td>\n      <td>384</td>\n      <td>1850.00864</td>\n      <td>0</td>\n      <td>why not</td>\n      <td>en</td>\n    </tr>\n    <tr>\n      <th>8148</th>\n      <td>8148</td>\n      <td>384</td>\n      <td>3826.67134</td>\n      <td>3</td>\n      <td>I commend your fucking rat</td>\n      <td>en</td>\n    </tr>\n    <tr>\n      <th>8149</th>\n      <td>8149</td>\n      <td>384</td>\n      <td>3826.87064</td>\n      <td>1</td>\n      <td>rasta won you the game</td>\n      <td>en</td>\n    </tr>\n  </tbody>\n</table>\n<p>1000 rows × 6 columns</p>\n</div>"
     },
     "metadata": {},
     "execution_count": 14
    }
   ],
   "source": [
    "df"
   ]
  },
  {
   "cell_type": "code",
   "execution_count": 15,
   "metadata": {
    "tags": []
   },
   "outputs": [],
   "source": [
    "grouped = df.groupby(['match','slot'])\n",
    "    "
   ]
  },
  {
   "cell_type": "code",
   "execution_count": 16,
   "metadata": {
    "tags": [
     "outputPrepend"
    ]
   },
   "outputs": [
    {
     "output_type": "stream",
     "name": "stdout",
     "text": "n to fee\n5105            u started it pudge\n5119                       where u\n5142    what happened to your mid \n5143            why make am so fat\n5146                 do need money\n5148             come suck my dick\n5167       buyer just shit on dude\n5181                   i rich what\n5183                    how bout u\n5200             thanks poor fagot\n5221                radian victory\nName: text, dtype: object\n5050                             worth \n5054                             worth \n5060                               easy\n5069    getting destroyed by herald axe\n5090                  say that when win\nName: text, dtype: object\n5075    worth \nName: text, dtype: object\n5077                       worth \n5080         losing to herald bro\n5180    at least got money to buy\nName: text, dtype: object\n5139    dont know how to play your hero am \nName: text, dtype: object\n5092    just wait bitch\n5123             really\nName: text, dtype: object\n5154    why run \nName: text, dtype: object\n5238        get off my dick pudge\n5240    u lost 2 towers 2 kill me\n5241                       morons\n5247                   rough game\nName: text, dtype: object\n5262    bots play better know\nName: text, dtype: object\n5274    Gg east\nName: text, dtype: object\n5298    insert coin  game over\nName: text, dtype: object\n5339    Currently In GameDota 2Join Game\nName: text, dtype: object\n5397                              Dont attack my twrs pls\n5403                                      solo carry team\n5404                                            Best team\n5414                                    they farm all day\n5415                         buy retard items cant blieve\n5417                                           0 teamplay\n5424        Enjoy ur loss fuc kijng garbage piece of shit\n5426                                              6 death\n5427                                              9 death\n5428                                   in game carry 10 0\n5432                                                 only\n5436                                         TO FARM MORE\n5438                                      GET CANCERS ALL\n5439                       ALL HAVE ITEM AHAHHAHAHAHAHAHA\n5440                                         TEAM NO ITEM\n5441                  I CREATE MORE SPAC THAN IN UNIVERSE\n5442                                            TEAM CANT\n5447                RETARD IM LEGEND 5 IDIOT BASTARD NOOB\n5448                                     SHUT THE FUCK UP\n5461                                       AND BE USELESS\n5464                          can only farm and do noting\n5467                  cant believe how alch can have item\n5469                             Team can feed every noob\n5471                                            best team\n5473                                            cant 1on5\n5477    unbelievable how people can be so bad to lose ...\n5478                            fucking trash of humanity\n5479                                nice fair matchmaking\n5480           give me the 4 worst players in all of dota\n5488                                                of hp\n5489                                              not one\n5490                                      Not fucking one\n5491                                   Even treads on agi\n5493    i cant believe how lowskill and stupid people ...\n5494                     i was smarter on my 2nd day dota\nName: text, dtype: object\n5407               and play\n5421               now stfu\n5429             he can dmg\n5445    u have nothing noob\n5458                 sucker\nName: text, dtype: object\n5507    Cooldown \nName: text, dtype: object\n5512    of\nName: text, dtype: object\n5620    cgfcb pf cjxedcndbt\nName: text, dtype: object\n5655    clock\nName: text, dtype: object\n5668    dont back\nName: text, dtype: object\n5688    gg wp comend\nName: text, dtype: object\n5672         is there point to these predictions\n5673    other than showing off ur winning streak\nName: text, dtype: object\n5677             thats all it otok \n5678    one curse and you boys run \n5679           i dont need 3 people\nName: text, dtype: object\n5713    that how we roll\nName: text, dtype: object\n5746            can just wait  \n5760           my god this team\n5764    wtf am supposed to do  \n5769           report noob team\nName: text, dtype: object\n5768    fuck this team\nName: text, dtype: object\n5779    WHAT THE\n5785    WHAT THE\nName: text, dtype: object\n5795              he at base\n5804    report LS pls thanks\nName: text, dtype: object\n5777                                       end please\n5794                         Pick pho as offlane rofl\n5799    how to win then no one can kill weaver and am\nName: text, dtype: object\n5816          destory items\n5819    why pick supp pudge\nName: text, dtype: object\n5813    u can straight top\nName: text, dtype: object\n5903    fucking pieces of trash\nName: text, dtype: object\n5911    is this game serious\n5913               this game\nName: text, dtype: object\n5919    this is undying\nName: text, dtype: object\n5927    Wtf are you doing\nName: text, dtype: object\n5950    how often\nName: text, dtype: object\n5957    he had hard lane\n5958           very hard\n5962    you need trilane\nName: text, dtype: object\n5955    rly hope you report him\nName: text, dtype: object\n5965    u had so much luck  100  chance for that fucki...\nName: text, dtype: object\n5970    En bot\nName: text, dtype: object\n5988    monkey blocks my hook said he was going to pic...\n5989                 twice get this shitty brood as core \nName: text, dtype: object\n5995    cold snap\nName: text, dtype: object\n6016       rofl\n6020    if know\nName: text, dtype: object\n6028    pick shaman more\nName: text, dtype: object\n6024    Do call myself as an allies \nName: text, dtype: object\n6034    EZ TRILANE\nName: text, dtype: object\n6042    ez predicted pango\n6050                   too\nName: text, dtype: object\n6038    dont be worry   we have god father of drug\nName: text, dtype: object\n6064    REPORT URSA\nName: text, dtype: object\n6079    wohohoh huskar commended  D\n6087                  commend me ty\nName: text, dtype: object\n6085    team commended but juggernaut\nName: text, dtype: object\n6083    COMMEND ME  TY\nName: text, dtype: object\n6095    what sound do you think make when eat cum\nName: text, dtype: object\n6092    no sound no mine blows up\n6093                  OK ICEFRAUD\nName: text, dtype: object\n6196    feeed me more\n6198    feeed me more\n6200      feeed po cd\nName: text, dtype: object\n6220    report rubick pls\nName: text, dtype: object\n6223    REPORTA SHAMAN RUBICK   COMEND\nName: text, dtype: object\n6230    if you could speak that AM afk or dc would not...\n6231                  but those alien signs tell nothing \n6232                             is that your tawarisz   \n6234                                              what   \n6237                                        he cant farm \nName: text, dtype: object\n6240    sorry bro  it was funny didnt get stun\n6241         later it will not be funny for me\nName: text, dtype: object\n6264    F CK THIS\nName: text, dtype: object\n6329    ive never heard of storm mid before tbh\n6337                           leave them alone\n6344     im gonna report ursa for ability abuse\nName: text, dtype: object\n6318    look at this line up and honestly say your tea...\n6323                                             ur right\nName: text, dtype: object\n6288                   what happened\n6294             the picks were fine\n6334    did anything except feed lol\n6341                     sounds good\nName: text, dtype: object\n6332                          rofl\n6333    this fucking ursa try hard\nName: text, dtype: object\n6293                           every1 throw toys out pram\n6301    and storm spends more time typing than anythin...\n6339                     well im reporting storm and dusa\n6340                   because you both tilted each other\nName: text, dtype: object\n6287                        this lineup is fucking stupid\n6289                                           this picks\n6292                                               these \n6297                     these guys dont know how to play\n6299                           and when went to gank they\n6303                                      ill sit in base\n6314                                   my lanes were dumb\n6324                                you have 3 lock downs\n6327                                 i thought it be easy\n6330               then at 8 mins you were already up 6 0\n6331                                  before did anything\n6336    nothing can do when my team just run when come...\nName: text, dtype: object\n6290                             storm failed mid to ursa\n6291                                         and he whine\n6308               i wish you sat in base since the start\n6310                                        just push now\n6316                            storm failing mid to ursa\n6343    thats fine you can report me hardly said anyth...\n6345                                     who kept whining\nName: text, dtype: object\n6361    IDI NAHUY\nName: text, dtype: object\n6427    comended team\nName: text, dtype: object\n6421    np our SF is totaly autistic\n6423                  sf is brainlet\n6424    pathetic AM pick in unranked\n6428                   carried by SF\nName: text, dtype: object\n6436    GG our axe was bad though\nName: text, dtype: object\n6430    yes we know that\n6431       and ez offane\nName: text, dtype: object\n6439    noobs always goes core\nName: text, dtype: object\n6437    COME AS 5\nName: text, dtype: object\n6480    let them def wtf\nName: text, dtype: object\n6455    wk reported\nName: text, dtype: object\n6451               Yeah  don look at the WK\n6452                              Please   \n6453    Just pretend the man doesn exist   \nName: text, dtype: object\n6484    nice rofl mother dead \nName: text, dtype: object\n6454                        cool\n6465               pa realy shit\n6469            look the shit pa\n6475    ez go fuck ur mather pla\nName: text, dtype: object\n6495    ofc\nName: text, dtype: object\n6537    ck you need to study  half your senteces make ...\nName: text, dtype: object\n6520    5 asshole move together\n6524                    ASshole\n6535            Fuc you asshole\n6536                     People\nName: text, dtype: object\n6538    sorry guys\nName: text, dtype: object\n6531    nice feed top trol and spectra\nName: text, dtype: object\n6565    GG team\nName: text, dtype: object\n6576    stfu techies player\nName: text, dtype: object\n6608       cmon guys 3v1 really \n6612    thats what your mum said\nName: text, dtype: object\n6616    minced\nName: text, dtype: object\n6609    that was 3v1 too \nName: text, dtype: object\n6661    never 1st spec again\nName: text, dtype: object\n6657    we are late game\nName: text, dtype: object\n6676    why you play whis shit heroes\n6678                     reported pa \n6680                stupid shit hero \n6684                            fast \n6685                   peace of shits\nName: text, dtype: object\n6701    Report wk\nName: text, dtype: object\n6733    they dont have\n6735         go thorne\n6736            throne\nName: text, dtype: object\n6719    i ss one hit\nName: text, dtype: object\n6726                                  im tilted af wid sf\n6738    practise wid bots how to grave teammates at wh...\nName: text, dtype: object\n6737    nice carry husk \nName: text, dtype: object\n6747    ill out retard your feed dont worry\nName: text, dtype: object\n6766    now we get to see the purple cool aid man slow...\n6767      report alch for not having 0 25 seconds per atk\n6771                                            only 0 28\nName: text, dtype: object\n6795    why TK \nName: text, dtype: object\n6801    Cancer sup\nName: text, dtype: object\n6809                      reported\n6812    doesnt mean am part of you\nName: text, dtype: object\n6815     2 hits   \n6816       really \n6824    Come back \n6826    Nice rosh \nName: text, dtype: object\n6839                           all of us no tango\n6856                                     party   \n6887                                  that pudge \n6888                                   cum back  \n6903    ohh its from universe its dizasta   ppd  \nName: text, dtype: object\n6838    pls end as fast as can sirs\nName: text, dtype: object\n7058    wp my team\nName: text, dtype: object\n7059    nice comming ta\nName: text, dtype: object\n7081    ty for game\nName: text, dtype: object\n7083    thx 4 waiting\nName: text, dtype: object\n7121    press change weather\n7134                 she rec\nName: text, dtype: object\n7130    rec wait\n7135    asshole \nName: text, dtype: object\n7126    press for glyph of fortification\nName: text, dtype: object\n7161              ty ty\n7170               why \n7171          too early\n7179               cool\n7182    that loss money\n7185       only me def \nName: text, dtype: object\n7156    why quit  \nName: text, dtype: object\n7147    so   who cares\nName: text, dtype: object\n7192               CLICK\n7199     thanks for hlep\n7207             one day\nName: text, dtype: object\n7242    there is tip for noob player like am\n7243              if are some kind of retard\n7244                                 ply sup\n7247                               we really\n7248                             Respect him\n7251                        team respect him\n7252                      1045 crit attack  \n7254                       i stay in funtain\nName: text, dtype: object\n7229    what are we supposed to do without carry \n7230                                   report him\nName: text, dtype: object\n7286    our spec run away when war\n7287                  with full hp\nName: text, dtype: object\n7279                didnt know that \n7280    thought fly woulndt get stop\n7282                        pheonix \n7294        omg the pheonix plays  D\nName: text, dtype: object\n7281        wp team\n7283    good cover \nName: text, dtype: object\n7310    bloodlust wins\nName: text, dtype: object\n7320          im going to hook\n7321    when no one in my team\n7322                isn ear me\nName: text, dtype: object\n7353                            best thing about it\n7354                        Is that our russian duo\n7355                               antimage and axe\n7356    cannot even fucking finish game already won\n7357                                 Not even that \nName: text, dtype: object\n7348         report ursa thx\n7349    go fuck urself cuntù\n7350        stop focusing me\nName: text, dtype: object\n7359    report troll\nName: text, dtype: object\n7365                 go next ty\n7368    retard my fucking team \nName: text, dtype: object\n7367    Cant believe retard wanbts to kill instead of ...\nName: text, dtype: object\n7361    1v3 fore what\nName: text, dtype: object\n7459    is this your life now \nName: text, dtype: object\n7462    please\nName: text, dtype: object\n7482    said the monkey picker  D\nName: text, dtype: object\n7494    im herald in my heart\nName: text, dtype: object\n7498    that stick lion\n7499    felt bad right \nName: text, dtype: object\n7493    how are these ranks equal \nName: text, dtype: object\n7521    go throne\nName: text, dtype: object\n7529    worth it\nName: text, dtype: object\n7538    why almost every game for me pudje \nName: text, dtype: object\n7555    try hard\nName: text, dtype: object\n7570    Good Game  Well Played \nName: text, dtype: object\n7627    we ll just go and report this dude\n7629                           he returned\nName: text, dtype: object\n7622                                  I DON CARE MMR\n7625                                     U CARE     \n7626                                   I DON CARE IT\n7630    THANK YOU FOR IMPROVING THE DOTA 2 COMMUNITY\n7634                                i think you mean\nName: text, dtype: object\n7618            you forgot the T\n7636    are you calling for aid \nName: text, dtype: object\n7619    what is repor \nName: text, dtype: object\n7657    report clock and tinker\n7659                or whatever\nName: text, dtype: object\n7645    wow rly  dood if you dont wanna play then dont...\nName: text, dtype: object\n7643    that feel so good\nName: text, dtype: object\n7651    my team doesnt deserve to get out of lp\n7653          just goinna serll my items and dc\n7654       ppl qwith lowm iq deserve lp forever\nName: text, dtype: object\n7661    commend ember\nName: text, dtype: object\n7705    good thing pudge is staying in lane the whole ...\nName: text, dtype: object\n7702    or 99 \nName: text, dtype: object\n7748                                  nice try my team xD\n7752                      i dont understand wht ur say m8\n7755    dont act like ur philipine language like inter...\nName: text, dtype: object\n7723    sure win \nName: text, dtype: object\n7819    dude the other team doesnt wanna hear you be l...\nName: text, dtype: object\n7811    i like how my team saying how im losing when i...\n7821                                       U GOT 2nd move\n7822                                   TO COUNTER MY MISS\n7826                            but my team dont know tha\n7828                                  they nv seen lc mid\n7829                                            what joke\n7831                           sorry lc come back is real\n7834                    my es from last game came through\n7836                                             its cool\n7839                              lol carry him last game\n7840                                he carry me this game\n7842                                          sounds fair\n7843    anyway tinker counter your teamate but counter me\nName: text, dtype: object\n7801    It fucked me more than you \nName: text, dtype: object\n7804    he says he will be right back\n7806                     there he is \n7830    how the fuck did we win that \nName: text, dtype: object\n7856    commend my team\nName: text, dtype: object\n7849    fue ty chaos\nName: text, dtype: object\n7796                rly \n7808            Stop pls\n7810    if continue 1ing\n7825             stop it\nName: text, dtype: object\n7854    RATAS TODOS\nName: text, dtype: object\n7857    i will show this game to all my support\n7858                                 how to win\n7859                  oracle win this shit solo\nName: text, dtype: object\n7868    can win\nName: text, dtype: object\n7862    pasue for wat  \nName: text, dtype: object\n7870          cant win bro \n7873    warlock has scepter\n7875          i has scepter\nName: text, dtype: object\n7864    wait please\nName: text, dtype: object\n7904    report pudge\nName: text, dtype: object\n7961    why so passive  \nName: text, dtype: object\n7973    Come guys\nName: text, dtype: object\n8016    Fuk this game\n8020             Rofl\nName: text, dtype: object\n7996           never pick my rune again bitch \n8001                             he gave up xD\n8002      sad he will never reach Walhalla   D\n8008    for that shit will make you bleed riki\n8026                          WTF was that   D\nName: text, dtype: object\n8033    hf boys love you\nName: text, dtype: object\n8032    WHO WANTS TO LIVE FOREVER\n8042                    holy shit\nName: text, dtype: object\n8043    now the natures buys right click items\nName: text, dtype: object\n8052    lol was talking to my brother\nName: text, dtype: object\n8053           and wasnt there\n8057    cant fuck with oracle \nName: text, dtype: object\n8081    report sf and am\n8083              please\nName: text, dtype: object\n8085            rofl\n8086    Report pudge\nName: text, dtype: object\n8093    es you in wrong team   \nName: text, dtype: object\n8101         fuck off\n8106         WHAT COG\n8126    spaxe xreated\nName: text, dtype: object\n8108    suck my cock\n8116      and travel\nName: text, dtype: object\n8110     nice hero\n8117    and talent\nName: text, dtype: object\n8107    nice feed rhasta\n8123                 Who\nName: text, dtype: object\n8135    why not\nName: text, dtype: object\n8149    rasta won you the game\nName: text, dtype: object\n8148    I commend your fucking rat\nName: text, dtype: object\n"
    }
   ],
   "source": [
    "for name, group in grouped:\n",
    "    print(group['text'])"
   ]
  },
  {
   "cell_type": "code",
   "execution_count": 19,
   "metadata": {
    "tags": []
   },
   "outputs": [],
   "source": [
    "df = df.groupby(['match','slot'])['text'].apply(lambda x: ', '.join(x)).reset_index()\n"
   ]
  },
  {
   "cell_type": "code",
   "execution_count": 20,
   "metadata": {},
   "outputs": [],
   "source": [
    "df.to_csv('label.csv')"
   ]
  },
  {
   "cell_type": "code",
   "execution_count": null,
   "metadata": {},
   "outputs": [],
   "source": []
  }
 ]
}