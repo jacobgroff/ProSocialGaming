{
 "metadata": {
  "language_info": {
   "codemirror_mode": {
    "name": "ipython",
    "version": 3
   },
   "file_extension": ".py",
   "mimetype": "text/x-python",
   "name": "python",
   "nbconvert_exporter": "python",
   "pygments_lexer": "ipython3",
   "version": "3.7.6-final"
  },
  "orig_nbformat": 2,
  "kernelspec": {
   "name": "python3",
   "display_name": "Python 3"
  }
 },
 "nbformat": 4,
 "nbformat_minor": 2,
 "cells": [
  {
   "cell_type": "markdown",
   "metadata": {},
   "source": [
    "# Dota 2 Chat Log Data Set\n",
    "Training Set Count: 1000\n",
    "## Labels\n",
    "    None of the labels are mutually exclusive. You may encounter toxic teamwork. Just like the workplace sometimes.\n",
    "### Positivity, Teamwork, Sportsmanship\n",
    "- Positivity\n",
    "    - Overall comment is opposite of negative. Neutral comments are included as positive.\n",
    "- Team Work\n",
    "    - Communication to team about the game. Should be something relevant to the game. Telling a \"noob\" to go mid still counts as team work. \n",
    "- Sportsmanship\n",
    "    - Calling out something positive in someone else during the game, being a good \"sport\". It may be as simple as \"GG\", or complimenting another player (same team or other team)\n",
    "### Spam, Toxic, Report_Misuse\n",
    "- Spam\n",
    "    - Text is spamming or advertising something not related to the game. It could be a twitch channel, or something repeated over and over without merit\n",
    "- Toxic\n",
    "    - Communication contains vulgar language, put downs, severly negative comments about team mates or opposing team. Comments about someone's mom.\n",
    "- Report_Misuse\n",
    "    - Calling out to report another player for being bad, or doing something that is against the \"meta\", or something else that doesn't violate Dota 2's basic rules. Being bad doesn't warrant a report. People often use it instead of insults and is another form of toxic communication. "
   ]
  },
  {
   "cell_type": "code",
   "execution_count": null,
   "metadata": {},
   "outputs": [],
   "source": [
    "import pandas as pd"
   ]
  },
  {
   "cell_type": "code",
   "execution_count": null,
   "metadata": {},
   "outputs": [],
   "source": [
    "df= pd.read_csv('dota_detected_lang_mil.csv')\n",
    "df= df.loc[df['lang'] == 'en']\n",
    "df= df.head(1000)"
   ]
  },
  {
   "cell_type": "code",
   "execution_count": null,
   "metadata": {
    "tags": []
   },
   "outputs": [],
   "source": [
    "df = df.groupby(['match','slot'])['text'].apply(lambda x: ', '.join(x)).reset_index()"
   ]
  },
  {
   "cell_type": "code",
   "execution_count": null,
   "metadata": {},
   "outputs": [],
   "source": [
    "df.to_csv('label.csv')"
   ]
  }
 ]
}