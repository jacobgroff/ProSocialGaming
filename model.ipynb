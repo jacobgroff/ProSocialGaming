{
 "metadata": {
  "language_info": {
   "codemirror_mode": {
    "name": "ipython",
    "version": 3
   },
   "file_extension": ".py",
   "mimetype": "text/x-python",
   "name": "python",
   "nbconvert_exporter": "python",
   "pygments_lexer": "ipython3",
   "version": "3.7.6-final"
  },
  "orig_nbformat": 2,
  "kernelspec": {
   "name": "python3",
   "display_name": "Python 3"
  }
 },
 "nbformat": 4,
 "nbformat_minor": 2,
 "cells": [
  {
   "cell_type": "code",
   "execution_count": 63,
   "metadata": {},
   "outputs": [],
   "source": [
    "# Building off code from: https://www.kaggle.com/jhoward/nb-svm-strong-linear-baseline\n",
    "import pandas as pd, numpy as np\n",
    "from sklearn.linear_model import LogisticRegression\n",
    "from sklearn.feature_extraction.text import CountVectorizer, TfidfVectorizer"
   ]
  },
  {
   "cell_type": "code",
   "execution_count": 64,
   "metadata": {},
   "outputs": [],
   "source": [
    "train = pd.read_csv('train.csv')\n",
    "test = pd.read_csv('test.csv')\n",
    "subm = pd.read_csv('sub.csv')"
   ]
  },
  {
   "cell_type": "code",
   "execution_count": 65,
   "metadata": {},
   "outputs": [],
   "source": [
    "train = train.fillna(0)\n",
    "test = test.fillna(0)\n",
    "subm = subm.fillna(0)\n",
    "train = train.drop(columns=['match', 'slot'])\n",
    "test = test.drop(columns=['match', 'slot'])\n",
    "subm = subm.drop(columns=['match', 'slot'])"
   ]
  },
  {
   "cell_type": "code",
   "execution_count": 66,
   "metadata": {},
   "outputs": [],
   "source": [
    "train = train.astype({'id':'int32','Positivity':'bool', 'Team_Work':'bool', 'Sportsmanship':'bool', 'Spam':'bool', 'Toxic':'bool', 'Report_Misuse':'bool', 'Neutral':'bool'})"
   ]
  },
  {
   "cell_type": "code",
   "execution_count": 67,
   "metadata": {},
   "outputs": [],
   "source": [
    "label_cols = ['Positivity', 'Team_Work', 'Sportsmanship', 'Spam', 'Toxic', 'Report_Misuse', 'Neutral' ]\n"
   ]
  },
  {
   "cell_type": "code",
   "execution_count": 68,
   "metadata": {},
   "outputs": [
    {
     "output_type": "execute_result",
     "data": {
      "text/plain": "              id       none\ncount  71.000000  71.000000\nmean   35.000000   0.211268\nstd    20.639767   0.411113\nmin     0.000000   0.000000\n25%    17.500000   0.000000\n50%    35.000000   0.000000\n75%    52.500000   0.000000\nmax    70.000000   1.000000",
      "text/html": "<div>\n<style scoped>\n    .dataframe tbody tr th:only-of-type {\n        vertical-align: middle;\n    }\n\n    .dataframe tbody tr th {\n        vertical-align: top;\n    }\n\n    .dataframe thead th {\n        text-align: right;\n    }\n</style>\n<table border=\"1\" class=\"dataframe\">\n  <thead>\n    <tr style=\"text-align: right;\">\n      <th></th>\n      <th>id</th>\n      <th>none</th>\n    </tr>\n  </thead>\n  <tbody>\n    <tr>\n      <th>count</th>\n      <td>71.000000</td>\n      <td>71.000000</td>\n    </tr>\n    <tr>\n      <th>mean</th>\n      <td>35.000000</td>\n      <td>0.211268</td>\n    </tr>\n    <tr>\n      <th>std</th>\n      <td>20.639767</td>\n      <td>0.411113</td>\n    </tr>\n    <tr>\n      <th>min</th>\n      <td>0.000000</td>\n      <td>0.000000</td>\n    </tr>\n    <tr>\n      <th>25%</th>\n      <td>17.500000</td>\n      <td>0.000000</td>\n    </tr>\n    <tr>\n      <th>50%</th>\n      <td>35.000000</td>\n      <td>0.000000</td>\n    </tr>\n    <tr>\n      <th>75%</th>\n      <td>52.500000</td>\n      <td>0.000000</td>\n    </tr>\n    <tr>\n      <th>max</th>\n      <td>70.000000</td>\n      <td>1.000000</td>\n    </tr>\n  </tbody>\n</table>\n</div>"
     },
     "metadata": {},
     "execution_count": 68
    }
   ],
   "source": [
    "\n",
    "train['none'] = 1-train[label_cols].max(axis=1)\n",
    "train.describe()"
   ]
  },
  {
   "cell_type": "code",
   "execution_count": 69,
   "metadata": {},
   "outputs": [],
   "source": [
    "import re, string\n",
    "re_tok = re.compile(f'([{string.punctuation}“”¨«»®´·º½¾¿¡§£₤‘’])')\n",
    "def tokenize(s): return re_tok.sub(r' \\1 ', s).split()"
   ]
  },
  {
   "cell_type": "code",
   "execution_count": 70,
   "metadata": {},
   "outputs": [],
   "source": [
    "n = train.shape[0]\n",
    "vec = TfidfVectorizer(ngram_range=(1,2), tokenizer=tokenize,\n",
    "               min_df=3, max_df=0.9, strip_accents='unicode', use_idf=1,\n",
    "               smooth_idf=1, sublinear_tf=1 )\n",
    "trn_term_doc = vec.fit_transform(train['text'])\n",
    "test_term_doc = vec.transform(test['text'])"
   ]
  },
  {
   "cell_type": "code",
   "execution_count": 71,
   "metadata": {},
   "outputs": [],
   "source": [
    "def pr(y_i, y):\n",
    "    p = x[y==y_i].sum(0)\n",
    "    return (p+1) / ((y==y_i).sum()+1)"
   ]
  },
  {
   "cell_type": "code",
   "execution_count": 72,
   "metadata": {},
   "outputs": [],
   "source": [
    "x = trn_term_doc\n",
    "test_x = test_term_doc"
   ]
  },
  {
   "cell_type": "code",
   "execution_count": 80,
   "metadata": {},
   "outputs": [],
   "source": [
    "def get_mdl(y):\n",
    "    y = y.values\n",
    "    r = np.log(pr(1,y) / pr(0,y))\n",
    "    m = LogisticRegression(C=4, dual=False)\n",
    "    x_nb = x.multiply(r)\n",
    "    return m.fit(x_nb, y), r"
   ]
  },
  {
   "cell_type": "code",
   "execution_count": 81,
   "metadata": {
    "tags": []
   },
   "outputs": [
    {
     "output_type": "stream",
     "name": "stdout",
     "text": "fit text\nfit Positivity\nfit Team_Work\nfit Sportsmanship\nfit Spam\nfit Toxic\nfit Report_Misuse\nfit Neutral\n"
    }
   ],
   "source": [
    "preds = np.zeros((len(test), len(label_cols)))\n",
    "\n",
    "for i, j in enumerate(label_cols):\n",
    "    print('fit', j)\n",
    "    m,r = get_mdl(train[j])\n",
    "    preds[:,i] = m.predict_proba(test_x.multiply(r))[:,1]"
   ]
  },
  {
   "cell_type": "code",
   "execution_count": 83,
   "metadata": {},
   "outputs": [
    {
     "output_type": "execute_result",
     "data": {
      "text/plain": "array([[0.01408451, 0.05424096, 0.04945858, 0.02961455, 0.01535369,\n        0.11622213, 0.0081897 , 0.18840897],\n       [0.01408451, 0.05424096, 0.04945858, 0.02961455, 0.01535369,\n        0.11622213, 0.0081897 , 0.18840897],\n       [0.01408451, 0.05339643, 0.04208792, 0.026214  , 0.36119571,\n        0.12137051, 0.0311682 , 0.06315162],\n       [0.01408451, 0.03380008, 0.05133115, 0.00982607, 0.91638545,\n        0.11938583, 0.01336602, 0.28346502],\n       [0.01408451, 0.28926162, 0.09977249, 0.09496045, 0.91769936,\n        0.1168101 , 0.02027541, 0.16122884],\n       [0.01408451, 0.06138966, 0.05211071, 0.01792415, 0.01331234,\n        0.11161479, 0.00704896, 0.18581922],\n       [0.01408451, 0.05424096, 0.04945858, 0.02961455, 0.01535369,\n        0.11622213, 0.0081897 , 0.18840897],\n       [0.01408451, 0.05424096, 0.04945858, 0.02961455, 0.01535369,\n        0.11622213, 0.0081897 , 0.18840897],\n       [0.01408451, 0.05180439, 0.42678365, 0.02138549, 0.01378561,\n        0.59044276, 0.00778279, 0.1762132 ],\n       [0.01408451, 0.61929707, 0.04798204, 0.01439071, 0.0384053 ,\n        0.08600874, 0.01124373, 0.10656555],\n       [0.01408451, 0.03939415, 0.04927897, 0.01598147, 0.07544412,\n        0.11290395, 0.01701893, 0.31490309],\n       [0.01408451, 0.05424096, 0.04945858, 0.02961455, 0.01535369,\n        0.11622213, 0.0081897 , 0.18840897],\n       [0.01408451, 0.0537391 , 0.04896724, 0.01901177, 0.06746403,\n        0.08823737, 0.69312449, 0.23477506],\n       [0.01408451, 0.0421513 , 0.03951399, 0.01685863, 0.02266683,\n        0.1363665 , 0.01337542, 0.17350916],\n       [0.01408451, 0.05424096, 0.04945858, 0.02961455, 0.01535369,\n        0.11622213, 0.0081897 , 0.18840897],\n       [0.01408451, 0.03998679, 0.0373415 , 0.01396508, 0.01713744,\n        0.36880858, 0.01070662, 0.26411027],\n       [0.01408451, 0.05313267, 0.04552939, 0.02127343, 0.15383249,\n        0.18388588, 0.02736008, 0.10234175],\n       [0.01408451, 0.06990851, 0.04284097, 0.08497997, 0.0640403 ,\n        0.11501799, 0.08119224, 0.20670469],\n       [0.01408451, 0.16260014, 0.2264103 , 0.34831383, 0.00795032,\n        0.47020549, 0.04908941, 0.16499227],\n       [0.01408451, 0.86234272, 0.0405253 , 0.03652494, 0.01192718,\n        0.11390103, 0.0069515 , 0.21982087],\n       [0.01408451, 0.05351529, 0.0518327 , 0.0208905 , 0.01295806,\n        0.21308172, 0.01168551, 0.23010617],\n       [0.01408451, 0.05424096, 0.04945858, 0.02961455, 0.01535369,\n        0.11622213, 0.0081897 , 0.18840897],\n       [0.01408451, 0.05424777, 0.06644326, 0.01402607, 0.11715139,\n        0.1289689 , 0.02981197, 0.09506747],\n       [0.01408451, 0.1361658 , 0.05432445, 0.01984846, 0.05857793,\n        0.07930072, 0.01349834, 0.10228793],\n       [0.01408451, 0.10603753, 0.3665093 , 0.04249236, 0.04497873,\n        0.30537569, 0.05243255, 0.16576952],\n       [0.01408451, 0.05046922, 0.14818631, 0.01805508, 0.04715832,\n        0.22131472, 0.01594006, 0.14513242],\n       [0.01408451, 0.04180973, 0.72659616, 0.01721369, 0.01123662,\n        0.10962276, 0.00659318, 0.15631535],\n       [0.01408451, 0.20585497, 0.24889533, 0.073441  , 0.02720788,\n        0.4108998 , 0.02073344, 0.18848318],\n       [0.01408451, 0.04635178, 0.08182071, 0.02593685, 0.0348343 ,\n        0.26738771, 0.02883356, 0.51115212],\n       [0.01408451, 0.05424096, 0.04945858, 0.02961455, 0.01535369,\n        0.11622213, 0.0081897 , 0.18840897],\n       [0.01408451, 0.03550755, 0.03911564, 0.01662074, 0.01119637,\n        0.15629295, 0.01774004, 0.30074075],\n       [0.01408451, 0.04239068, 0.03991612, 0.0146162 , 0.01779188,\n        0.13080327, 0.01420556, 0.17480722],\n       [0.01408451, 0.05424096, 0.04945858, 0.02961455, 0.01535369,\n        0.11622213, 0.0081897 , 0.18840897],\n       [0.01408451, 0.05424096, 0.04945858, 0.02961455, 0.01535369,\n        0.11622213, 0.0081897 , 0.18840897],\n       [0.01408451, 0.0550995 , 0.09653131, 0.0112014 , 0.00975796,\n        0.2270385 , 0.01815712, 0.16581082],\n       [0.01408451, 0.1049842 , 0.14761329, 0.23489483, 0.2747196 ,\n        0.10640762, 0.03246831, 0.15324798]])"
     },
     "metadata": {},
     "execution_count": 83
    }
   ],
   "source": [
    "preds"
   ]
  },
  {
   "cell_type": "code",
   "execution_count": 82,
   "metadata": {},
   "outputs": [],
   "source": [
    "\n",
    "submid = pd.DataFrame({'id': subm[\"id\"]})\n",
    "submission = pd.concat([submid, pd.DataFrame(preds, columns = label_cols)], axis=1)\n",
    "submission.to_csv('submission.csv', index=False)"
   ]
  },
  {
   "cell_type": "code",
   "execution_count": null,
   "metadata": {},
   "outputs": [],
   "source": []
  }
 ]
}